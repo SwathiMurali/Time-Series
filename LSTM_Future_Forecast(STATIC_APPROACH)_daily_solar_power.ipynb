{
  "nbformat": 4,
  "nbformat_minor": 0,
  "metadata": {
    "colab": {
      "name": "LSTM Future Forecast(STATIC APPROACH)-daily_solar_power.ipynb",
      "provenance": [],
      "collapsed_sections": []
    },
    "kernelspec": {
      "name": "python3",
      "display_name": "Python 3"
    },
    "accelerator": "GPU"
  },
  "cells": [
    {
      "cell_type": "code",
      "metadata": {
        "id": "syqoR5fBo30J",
        "colab_type": "code",
        "colab": {}
      },
      "source": [
        "import tensorflow.compat.v1 as tf\n",
        "tf.disable_v2_behavior()\n"
      ],
      "execution_count": 0,
      "outputs": []
    },
    {
      "cell_type": "code",
      "metadata": {
        "id": "nhjhqABlpwQ1",
        "colab_type": "code",
        "colab": {}
      },
      "source": [
        "from __future__ import absolute_import, division, print_function, unicode_literals\n",
        "\n",
        "import tensorflow_datasets as tfds\n",
        "\n",
        "import tensorflow as tf\n",
        "tfds.disable_progress_bar()\n"
      ],
      "execution_count": 0,
      "outputs": []
    },
    {
      "cell_type": "code",
      "metadata": {
        "id": "H6DvjsivogMl",
        "colab_type": "code",
        "colab": {}
      },
      "source": [
        "import pandas as pd\n",
        "import numpy as np\n",
        "import matplotlib.pyplot as plt\n",
        "from sklearn.metrics import r2_score\n",
        "from sklearn.metrics import mean_absolute_error\n",
        "from sklearn.metrics import mean_squared_error\n",
        "#import tensorflow as tf\n",
        "import keras"
      ],
      "execution_count": 0,
      "outputs": []
    },
    {
      "cell_type": "code",
      "metadata": {
        "id": "PZ-rxfEbhQwq",
        "colab_type": "code",
        "outputId": "6c072b3f-ef69-4dfc-9fc6-ff00e407b00d",
        "colab": {
          "base_uri": "https://localhost:8080/",
          "height": 86
        }
      },
      "source": [
        "solarpower = pd.read_csv(\"/content/drive/My Drive/Colab Notebooks/PV_Elec_Gas2.csv\",header = None,skiprows=1 ,names = ['date','cum_power','Elec_kW', \n",
        "                                                                            'Gas_mxm'], sep=',',usecols = [0,1,2,3],\n",
        "                     \n",
        "                     parse_dates={'dt' : ['date']}, infer_datetime_format=True,index_col='dt')\n",
        "print(solarpower.head(2))"
      ],
      "execution_count": 0,
      "outputs": [
        {
          "output_type": "stream",
          "text": [
            "            cum_power  Elec_kW  Gas_mxm\n",
            "dt                                     \n",
            "2011-10-26        0.1     15.1      9.0\n",
            "2011-10-27       10.2      7.4      9.2\n"
          ],
          "name": "stdout"
        }
      ]
    },
    {
      "cell_type": "code",
      "metadata": {
        "id": "FXa1EkaUz5US",
        "colab_type": "code",
        "outputId": "a08f7c1f-f18d-47d4-daf9-5a2f16bf3537",
        "colab": {
          "base_uri": "https://localhost:8080/",
          "height": 34
        }
      },
      "source": [
        "solarpower.shape"
      ],
      "execution_count": 0,
      "outputs": [
        {
          "output_type": "execute_result",
          "data": {
            "text/plain": [
              "(2948, 3)"
            ]
          },
          "metadata": {
            "tags": []
          },
          "execution_count": 92
        }
      ]
    },
    {
      "cell_type": "code",
      "metadata": {
        "id": "kd9Bp3MVhdYV",
        "colab_type": "code",
        "colab": {}
      },
      "source": [
        "# make solar power stationary\n",
        "\n",
        "solarpower2 = solarpower.shift(periods=1, freq='D', axis=0)\n",
        "solarpower['cum_power_shift'] = solarpower2.loc[:,'cum_power']\n",
        "solarpower['day_power'] = solarpower['cum_power'].values - solarpower['cum_power_shift']\n",
        "solarpower.iloc[0:1].day_power.value = 0.\n",
        "A = solarpower.dropna()\n",
        "del A['cum_power'], A['cum_power_shift']\n",
        "solarpower = A\n",
        "\n"
      ],
      "execution_count": 0,
      "outputs": []
    },
    {
      "cell_type": "code",
      "metadata": {
        "id": "LciKFMmbhsGK",
        "colab_type": "code",
        "outputId": "15736705-7d71-496a-cc04-4b21f1cb4461",
        "colab": {
          "base_uri": "https://localhost:8080/",
          "height": 139
        }
      },
      "source": [
        "print(solarpower2.head())"
      ],
      "execution_count": 0,
      "outputs": [
        {
          "output_type": "stream",
          "text": [
            "            cum_power  Elec_kW  Gas_mxm\n",
            "dt                                     \n",
            "2011-10-27        0.1     15.1      9.0\n",
            "2011-10-28       10.2      7.4      9.2\n",
            "2011-10-29       20.2      5.8      8.0\n",
            "2011-10-30       29.6      4.9      6.6\n",
            "2011-10-31       34.2     11.7      5.3\n"
          ],
          "name": "stdout"
        }
      ]
    },
    {
      "cell_type": "code",
      "metadata": {
        "id": "_KubnmKgh84B",
        "colab_type": "code",
        "outputId": "984fc8d1-6a62-4c73-cafe-0471934328e0",
        "colab": {
          "base_uri": "https://localhost:8080/",
          "height": 34
        }
      },
      "source": [
        "X_train = solarpower[:'2018-10-28']\n",
        "X_valid = solarpower['2018-10-29':'2019-10-28'] # is 365 days\n",
        "X_train.shape, X_valid.shape"
      ],
      "execution_count": 0,
      "outputs": [
        {
          "output_type": "execute_result",
          "data": {
            "text/plain": [
              "((2559, 3), (365, 3))"
            ]
          },
          "metadata": {
            "tags": []
          },
          "execution_count": 95
        }
      ]
    },
    {
      "cell_type": "code",
      "metadata": {
        "id": "PPtrKeekjKI_",
        "colab_type": "code",
        "outputId": "ab912ef7-6723-4e65-ef22-0436748a1ab4",
        "colab": {
          "base_uri": "https://localhost:8080/",
          "height": 156
        }
      },
      "source": [
        "X_train.tail(2), X_valid.head(2)"
      ],
      "execution_count": 0,
      "outputs": [
        {
          "output_type": "execute_result",
          "data": {
            "text/plain": [
              "(            Elec_kW  Gas_mxm  day_power\n",
              " dt                                     \n",
              " 2018-10-27     16.0      9.0        2.0\n",
              " 2018-10-28      7.0     11.0        8.0,\n",
              "             Elec_kW  Gas_mxm  day_power\n",
              " dt                                     \n",
              " 2018-10-29     10.0     13.0        7.0\n",
              " 2018-10-30     15.0     14.0        2.0)"
            ]
          },
          "metadata": {
            "tags": []
          },
          "execution_count": 96
        }
      ]
    },
    {
      "cell_type": "code",
      "metadata": {
        "id": "zaIO6PbvjTjA",
        "colab_type": "code",
        "outputId": "b3570307-af07-40eb-9248-0b8be19ac265",
        "colab": {
          "base_uri": "https://localhost:8080/",
          "height": 34
        }
      },
      "source": [
        "X_valid_start_cum_power = solarpower2['2018-10-28':'2018-10-28'].cum_power.values\n",
        "X_valid_start_cum_power # we need this to predict cumulative power on validation"
      ],
      "execution_count": 0,
      "outputs": [
        {
          "output_type": "execute_result",
          "data": {
            "text/plain": [
              "array([28122.])"
            ]
          },
          "metadata": {
            "tags": []
          },
          "execution_count": 97
        }
      ]
    },
    {
      "cell_type": "code",
      "metadata": {
        "id": "s40tUWgAl-gt",
        "colab_type": "code",
        "colab": {}
      },
      "source": [
        "# dividing the series into multiple input and output patterns\n",
        " '''\n",
        "    the series is split in (len(series)-window)-blocks of window size, \n",
        "    y is the next value that comes after the block, \n",
        "    every block starts with the next value in the series.\n",
        "    The last block ends with the last-but-one value in the series.\n",
        "    '''\n",
        "def my_split_window(series, window):\n",
        "   \n",
        "    X = []\n",
        "    y = []\n",
        "    n_steps = len(series) - window\n",
        "    for step in range(n_steps):\n",
        "        X.append(series[step:window+step])\n",
        "        y.append(series[step + window])\n",
        "    X = np.array(X)\n",
        "    y = np.array(y)\n",
        "    return X, y\n"
      ],
      "execution_count": 0,
      "outputs": []
    },
    {
      "cell_type": "code",
      "metadata": {
        "id": "zxtsc1SwmQbV",
        "colab_type": "code",
        "outputId": "82e91010-ea72-48df-b3bd-efc32b537a59",
        "colab": {
          "base_uri": "https://localhost:8080/",
          "height": 121
        }
      },
      "source": [
        "# test my_split_window\n",
        "my_series = np.array([10,20,30,40,50,60,70,80,90])\n",
        "X_, y_ = my_split_window(my_series, 3)\n",
        "X_, y_\n"
      ],
      "execution_count": 0,
      "outputs": [
        {
          "output_type": "execute_result",
          "data": {
            "text/plain": [
              "(array([[10, 20, 30],\n",
              "        [20, 30, 40],\n",
              "        [30, 40, 50],\n",
              "        [40, 50, 60],\n",
              "        [50, 60, 70],\n",
              "        [60, 70, 80]]), array([40, 50, 60, 70, 80, 90]))"
            ]
          },
          "metadata": {
            "tags": []
          },
          "execution_count": 99
        }
      ]
    },
    {
      "cell_type": "code",
      "metadata": {
        "id": "ja4egl5Xmcax",
        "colab_type": "code",
        "outputId": "bb8c26ce-7f72-481e-85ce-3ce1c1e4e4e2",
        "colab": {
          "base_uri": "https://localhost:8080/",
          "height": 69
        }
      },
      "source": [
        "# apply my_split_window on dayly solar power with a window of 365 days \n",
        "# the input series is the daily solar power\n",
        "train_power_series = X_train.day_power.values\n",
        "window = 365\n",
        "X, y = my_split_window(train_power_series, window)\n",
        "# print a sample\n",
        "for i in range(3):\n",
        "    print(X[i][-5:], y[i])\n"
      ],
      "execution_count": 0,
      "outputs": [
        {
          "output_type": "stream",
          "text": [
            "[3.2 5.5 9.6 8.2 8.7] 1.5\n",
            "[5.5 9.6 8.2 8.7 1.5] 2.0\n",
            "[9.6 8.2 8.7 1.5 2. ] 9.200000000000273\n"
          ],
          "name": "stdout"
        }
      ]
    },
    {
      "cell_type": "code",
      "metadata": {
        "id": "B9qT9LZhmq54",
        "colab_type": "code",
        "outputId": "35a86209-0d8a-46b8-f059-027f2b390be0",
        "colab": {
          "base_uri": "https://localhost:8080/",
          "height": 332
        }
      },
      "source": [
        "import warnings\n",
        "warnings.filterwarnings(\"ignore\")\n",
        "# we have an input shape = window size, number of features \n",
        "# we use only 1 feature (it is univariate) and we have a window size of one year (365 days) \n",
        "# we have to reshape from [samples, timesteps] into [samples, timesteps, features]\n",
        "n_features = 1\n",
        "X = X.reshape((X.shape[0], X.shape[1], n_features))\n",
        "# define model\n",
        "model = tf.keras.Sequential()\n",
        "model.add(tf.keras.layers.Conv1D(filters=32, kernel_size=4, activation='relu', \n",
        "                                 input_shape=(window, n_features)))\n",
        "model.add(tf.keras.layers.MaxPooling1D(pool_size=2))\n",
        "model.add(tf.keras.layers.Flatten())\n",
        "model.add(tf.keras.layers.Dense(50, activation='relu'))\n",
        "model.add(tf.keras.layers.Dense(1))\n",
        "model.compile(optimizer='adam', loss='mae')  # metrics=['mae'])\n",
        "# fit model\n",
        "keras_model_path = \"/tmp/keras_save\"\n",
        "model.save(keras_model_path)  # save() should be called out of strategy scope\n",
        "\n",
        "history = tf.keras.models.load_model(keras_model_path)\n",
        "history = model.fit(X, y, epochs=600, verbose=0)\n",
        "#history = model.fit(X, y, epochs=600, verbose=0)\n",
        "\n",
        "# graph of the loss shows convergence\n",
        "import matplotlib.pyplot as plt\n",
        "plt.plot(history.history['loss'])\n",
        "plt.title('loss')\n",
        "plt.xlabel('epochs')\n",
        "plt.show()\n",
        "'''# fit model\n",
        "keras_model_path = \"/tmp/keras_save\"\n",
        "model.save(keras_model_path)  # save() should be called out of strategy scope\n",
        "\n",
        "history = tf.keras.models.load_model(keras_model_path)\n",
        "history = model.fit(X, y, epochs=600, verbose=0)\n",
        "#history = model.fit(X, y, epochs=200, verbose=0)\n",
        "\n",
        "# graph of the loss shows convergence\n",
        "import matplotlib.pyplot as plt\n",
        "plt.plot(history.history['loss'])\n",
        "plt.title('loss')\n",
        "plt.xlabel('epochs')\n",
        "plt.show() '''"
      ],
      "execution_count": 0,
      "outputs": [
        {
          "output_type": "display_data",
          "data": {
            "image/png": "[encoded data removed]",
            "text/plain": [
              "<Figure size 432x288 with 1 Axes>"
            ]
          },
          "metadata": {
            "tags": []
          }
        },
        {
          "output_type": "execute_result",
          "data": {
            "text/plain": [
              "'# fit model\\nkeras_model_path = \"/tmp/keras_save\"\\nmodel.save(keras_model_path)  # save() should be called out of strategy scope\\n\\nhistory = tf.keras.models.load_model(keras_model_path)\\nhistory = model.fit(X, y, epochs=600, verbose=0)\\n#history = model.fit(X, y, epochs=200, verbose=0)\\n\\n# graph of the loss shows convergence\\nimport matplotlib.pyplot as plt\\nplt.plot(history.history[\\'loss\\'])\\nplt.title(\\'loss\\')\\nplt.xlabel(\\'epochs\\')\\nplt.show() '"
            ]
          },
          "metadata": {
            "tags": []
          },
          "execution_count": 101
        }
      ]
    },
    {
      "cell_type": "code",
      "metadata": {
        "id": "dxoFRjUlm0D3",
        "colab_type": "code",
        "outputId": "38197338-1e5b-40bc-82c7-d3bf0d33a996",
        "colab": {
          "base_uri": "https://localhost:8080/",
          "height": 34
        }
      },
      "source": [
        "# predicting next year\n",
        "x_input = np.array(X_train.day_power[-365:]) #  next value based on data of last year\n",
        "x_input = x_input.reshape((1, window, n_features)) \n",
        "\n",
        "for i in range(365):\n",
        "    y_hat = model.predict(x_input, verbose=0)\n",
        "    new_x = y_hat.reshape((1,1,1))\n",
        "    x_input = np.concatenate((x_input[:, -364:], new_x), axis=1)\n",
        "x_input.shape\n"
      ],
      "execution_count": 0,
      "outputs": [
        {
          "output_type": "execute_result",
          "data": {
            "text/plain": [
              "(1, 365, 1)"
            ]
          },
          "metadata": {
            "tags": []
          },
          "execution_count": 102
        }
      ]
    },
    {
      "cell_type": "code",
      "metadata": {
        "id": "btaLXH_-szvI",
        "colab_type": "code",
        "outputId": "0e76952a-e33d-48f2-e628-134394fa9f2c",
        "colab": {
          "base_uri": "https://localhost:8080/",
          "height": 265
        }
      },
      "source": [
        "y_predicted = x_input.reshape((x_input.shape[1]))\n",
        "plt.plot(y_predicted, label='predicted_power')\n",
        "\n",
        "y_true = X_valid.day_power.values\n",
        "plt.plot(y_true, label='true_power')\n",
        "plt.legend()\n",
        "plt.show()"
      ],
      "execution_count": 0,
      "outputs": [
        {
          "output_type": "display_data",
          "data": {
            "image/png": "[encoded data removed]",
            "text/plain": [
              "<Figure size 432x288 with 1 Axes>"
            ]
          },
          "metadata": {
            "tags": []
          }
        }
      ]
    },
    {
      "cell_type": "code",
      "metadata": {
        "id": "BUaewDZuwmy-",
        "colab_type": "code",
        "colab": {}
      },
      "source": [
        "pred_int = np.array(y_predicted, dtype='int')"
      ],
      "execution_count": 0,
      "outputs": []
    },
    {
      "cell_type": "code",
      "metadata": {
        "id": "AUbJxaftA3W4",
        "colab_type": "code",
        "outputId": "33a21745-c94f-4d6c-edd4-1669b27f7a95",
        "colab": {
          "base_uri": "https://localhost:8080/",
          "height": 54
        }
      },
      "source": [
        "pred_list = pred_int.tolist()\n",
        "print(pred_list)"
      ],
      "execution_count": 0,
      "outputs": [
        {
          "output_type": "stream",
          "text": [
            "[9, 8, 6, 4, 6, 6, 3, 3, 5, 3, 1, 2, 1, 0, 4, 5, 2, 1, 1, 1, 2, 5, 2, 1, 1, 1, 0, 1, 3, 4, 10, 2, 1, 2, 2, 1, 0, 1, 2, 2, 1, 0, 0, 1, 2, 3, 2, 0, 0, 2, 4, 1, 0, 1, 1, 3, 2, 1, 1, 2, 2, 2, 2, 0, 1, 2, 2, 1, 0, 1, 1, 2, 4, 1, 2, 1, 1, 1, 2, 3, 1, 2, 2, 0, 2, 4, 2, 0, 1, 3, 1, 0, 2, 3, 2, 2, 0, -1, 1, 1, 2, 4, 2, 5, 4, 3, 3, 3, 4, 6, 4, 7, 8, 0, 4, 3, 8, 12, 2, 0, 4, 10, 6, 0, 2, 6, 8, 8, 7, 4, 6, 11, 5, 3, 4, 9, 11, 14, 18, 11, 9, 9, 15, 16, 6, 5, 6, 13, 15, 9, 7, 9, 10, 10, 14, 12, 10, 13, 8, 6, 7, 8, 9, 7, 6, 7, 10, 11, 14, 14, 13, 16, 24, 13, 8, 13, 9, 8, 13, 12, 15, 14, 16, 20, 14, 8, 16, 16, 17, 22, 12, 15, 20, 17, 16, 18, 15, 17, 13, 12, 14, 15, 19, 17, 13, 15, 18, 14, 20, 18, 10, 9, 12, 16, 14, 14, 17, 20, 17, 21, 15, 15, 17, 19, 19, 17, 19, 19, 12, 11, 18, 13, 9, 10, 4, 11, 11, 7, 4, 12, 10, 11, 13, 11, 17, 18, 12, 11, 13, 10, 18, 21, 12, 13, 15, 8, 14, 10, 17, 16, 13, 14, 8, 11, 14, 15, 15, 15, 13, 15, 14, 17, 15, 12, 19, 17, 16, 12, 7, 14, 18, 17, 11, 9, 10, 16, 20, 18, 14, 21, 12, 6, 13, 12, 17, 17, 14, 8, 6, 6, 10, 17, 18, 10, 8, 4, 10, 12, 8, 11, 21, 12, 10, 10, 9, 14, 12, 10, 8, 5, 7, 10, 14, 10, 11, 12, 9, 10, 8, 8, 6, 5, 10, 8, 5, 7, 7, 8, 9, 7, 4, 5, 4, 5, 8, 8, 5, 5, 6, 4, 6, 6, 4, 8, 7, 6, 2, 3, 7, 4, 2, 4, 3, 4, 3]\n"
          ],
          "name": "stdout"
        }
      ]
    },
    {
      "cell_type": "code",
      "metadata": {
        "id": "ghqq8-dUw-S2",
        "colab_type": "code",
        "colab": {}
      },
      "source": [
        "true_list = y_true.tolist()"
      ],
      "execution_count": 0,
      "outputs": []
    },
    {
      "cell_type": "code",
      "metadata": {
        "id": "2JRCwZk2z01a",
        "colab_type": "code",
        "outputId": "8b1d6a3d-524a-4960-83fd-ea5973b033f9",
        "colab": {
          "base_uri": "https://localhost:8080/",
          "height": 121
        }
      },
      "source": [
        "df = pd.DataFrame()\n",
        "df['TRUE']  = y_true\n",
        "df['PREDICTED']  = pred_int\n",
        "\n",
        "df.head(), df.shape"
      ],
      "execution_count": 0,
      "outputs": [
        {
          "output_type": "execute_result",
          "data": {
            "text/plain": [
              "(   TRUE  PREDICTED\n",
              " 0   7.0          9\n",
              " 1   2.0          8\n",
              " 2   1.0          6\n",
              " 3   6.0          4\n",
              " 4   2.0          6, (365, 2))"
            ]
          },
          "metadata": {
            "tags": []
          },
          "execution_count": 107
        }
      ]
    },
    {
      "cell_type": "code",
      "metadata": {
        "id": "fhXWwaW19R3y",
        "colab_type": "code",
        "colab": {}
      },
      "source": [
        "import numpy as np\n",
        "\n",
        "def mean_absolute_percentage_error(y_true, y_pred): \n",
        "    y_true, y_pred = np.array(y_true), np.array(y_pred)\n",
        "    return np.mean(np.abs((y_pred - y_true) / y_pred)) "
      ],
      "execution_count": 0,
      "outputs": []
    },
    {
      "cell_type": "code",
      "metadata": {
        "id": "GCqaOWglFNyA",
        "colab_type": "code",
        "outputId": "2f948f2b-263a-4817-cdc6-797d0e7252f0",
        "colab": {
          "base_uri": "https://localhost:8080/",
          "height": 1000
        }
      },
      "source": [
        "for index, row in df.iterrows():\n",
        "\n",
        "  a = mean_absolute_percentage_error(row['TRUE'], row['PREDICTED'])\n",
        "\n",
        "  print(a) "
      ],
      "execution_count": 0,
      "outputs": [
        {
          "output_type": "stream",
          "text": [
            "0.2222222222222222\n",
            "0.75\n",
            "0.8333333333333334\n",
            "0.5\n",
            "0.6666666666666666\n",
            "0.5\n",
            "1.3333333333333333\n",
            "1.3333333333333333\n",
            "0.0\n",
            "0.6666666666666666\n",
            "1.0\n",
            "3.0\n",
            "4.0\n",
            "inf\n",
            "0.5\n",
            "0.6\n",
            "2.0\n",
            "4.0\n",
            "5.0\n",
            "0.0\n",
            "2.0\n",
            "0.4\n",
            "0.0\n",
            "0.0\n",
            "3.0\n",
            "4.0\n",
            "inf\n",
            "1.0\n",
            "1.0\n",
            "0.75\n",
            "0.7\n",
            "0.5\n",
            "1.0\n",
            "1.0\n",
            "0.5\n",
            "1.0\n",
            "inf\n",
            "1.0\n",
            "0.5\n",
            "1.0\n",
            "0.0\n",
            "inf\n",
            "inf\n",
            "2.0\n",
            "0.5\n",
            "0.6666666666666666\n",
            "1.0\n",
            "inf\n",
            "inf\n",
            "1.0\n",
            "0.25\n",
            "1.0\n",
            "inf\n",
            "0.0\n",
            "0.0\n",
            "0.0\n",
            "1.0\n",
            "2.0\n",
            "3.0\n",
            "1.0\n",
            "0.0\n",
            "0.5\n",
            "0.5\n",
            "inf\n",
            "0.0\n",
            "0.5\n",
            "0.5\n",
            "2.0\n",
            "inf\n",
            "1.0\n",
            "1.0\n",
            "0.5\n",
            "0.75\n",
            "3.0\n",
            "0.0\n",
            "1.0\n",
            "1.0\n",
            "1.0\n",
            "0.0\n",
            "0.3333333333333333\n",
            "0.0\n",
            "0.0\n",
            "1.0\n",
            "inf\n",
            "1.5\n",
            "0.5\n",
            "0.5\n",
            "inf\n",
            "1.0\n",
            "0.6666666666666666\n",
            "1.0\n",
            "inf\n",
            "0.5\n",
            "0.6666666666666666\n",
            "0.0\n",
            "0.5\n",
            "inf\n",
            "3.0\n",
            "2.0\n",
            "1.0\n",
            "0.0\n",
            "0.5\n",
            "1.5\n",
            "0.8\n",
            "0.0\n",
            "0.3333333333333333\n",
            "0.3333333333333333\n",
            "2.0\n",
            "1.0\n",
            "0.5\n",
            "1.25\n",
            "0.2857142857142857\n",
            "0.125\n",
            "inf\n",
            "1.25\n",
            "2.6666666666666665\n",
            "0.25\n",
            "0.6666666666666666\n",
            "4.5\n",
            "inf\n",
            "1.75\n",
            "0.1\n",
            "0.8333333333333334\n",
            "inf\n",
            "0.5\n",
            "0.6666666666666666\n",
            "0.75\n",
            "0.125\n",
            "0.2857142857142857\n",
            "0.5\n",
            "0.0\n",
            "0.2727272727272727\n",
            "0.0\n",
            "1.3333333333333333\n",
            "1.5\n",
            "0.4444444444444444\n",
            "0.36363636363636365\n",
            "0.5\n",
            "0.8888888888888888\n",
            "0.6363636363636364\n",
            "0.4444444444444444\n",
            "0.5555555555555556\n",
            "0.6\n",
            "0.375\n",
            "2.1666666666666665\n",
            "2.8\n",
            "0.5\n",
            "0.6153846153846154\n",
            "0.3333333333333333\n",
            "0.3333333333333333\n",
            "0.0\n",
            "0.2222222222222222\n",
            "1.1\n",
            "0.8\n",
            "0.07142857142857142\n",
            "0.75\n",
            "0.0\n",
            "0.15384615384615385\n",
            "0.25\n",
            "1.3333333333333333\n",
            "0.8571428571428571\n",
            "0.875\n",
            "0.3333333333333333\n",
            "1.8571428571428572\n",
            "2.3333333333333335\n",
            "1.7142857142857142\n",
            "0.2\n",
            "0.45454545454545453\n",
            "0.0\n",
            "0.6428571428571429\n",
            "0.07692307692307693\n",
            "0.375\n",
            "0.0\n",
            "0.7692307692307693\n",
            "2.0\n",
            "0.8461538461538461\n",
            "1.2222222222222223\n",
            "1.125\n",
            "0.6153846153846154\n",
            "0.3333333333333333\n",
            "0.4\n",
            "0.07142857142857142\n",
            "0.5\n",
            "0.15\n",
            "0.2857142857142857\n",
            "1.75\n",
            "0.375\n",
            "0.3125\n",
            "0.35294117647058826\n",
            "0.09090909090909091\n",
            "0.16666666666666666\n",
            "0.13333333333333333\n",
            "0.55\n",
            "0.23529411764705882\n",
            "0.125\n",
            "0.3333333333333333\n",
            "0.5333333333333333\n",
            "0.7058823529411765\n",
            "1.2307692307692308\n",
            "1.5\n",
            "0.7857142857142857\n",
            "0.4666666666666667\n",
            "0.10526315789473684\n",
            "0.11764705882352941\n",
            "0.6923076923076923\n",
            "0.26666666666666666\n",
            "0.3333333333333333\n",
            "0.6428571428571429\n",
            "0.55\n",
            "0.05555555555555555\n",
            "1.0\n",
            "0.6666666666666666\n",
            "0.16666666666666666\n",
            "0.25\n",
            "0.07142857142857142\n",
            "0.21428571428571427\n",
            "0.5882352941176471\n",
            "0.3\n",
            "0.29411764705882354\n",
            "0.23809523809523808\n",
            "0.4666666666666667\n",
            "0.2\n",
            "0.11764705882352941\n",
            "0.15789473684210525\n",
            "0.47368421052631576\n",
            "0.11764705882352941\n",
            "0.05263157894736842\n",
            "0.21052631578947367\n",
            "0.6666666666666666\n",
            "1.2727272727272727\n",
            "0.1111111111111111\n",
            "0.5384615384615384\n",
            "1.8888888888888888\n",
            "1.5\n",
            "3.0\n",
            "0.6363636363636364\n",
            "1.5454545454545454\n",
            "2.5714285714285716\n",
            "4.0\n",
            "0.8333333333333334\n",
            "1.4\n",
            "1.5454545454545454\n",
            "1.3076923076923077\n",
            "1.6363636363636365\n",
            "0.7058823529411765\n",
            "0.5\n",
            "1.25\n",
            "0.9090909090909091\n",
            "0.8461538461538461\n",
            "1.6\n",
            "0.3333333333333333\n",
            "0.19047619047619047\n",
            "0.8333333333333334\n",
            "0.15384615384615385\n",
            "0.13333333333333333\n",
            "0.5\n",
            "0.6428571428571429\n",
            "1.0\n",
            "0.29411764705882354\n",
            "0.1875\n",
            "0.3076923076923077\n",
            "0.42857142857142855\n",
            "1.5\n",
            "0.09090909090909091\n",
            "0.21428571428571427\n",
            "0.4\n",
            "0.4666666666666667\n",
            "0.7333333333333333\n",
            "1.0769230769230769\n",
            "0.6\n",
            "0.6428571428571429\n",
            "0.23529411764705882\n",
            "0.8\n",
            "0.16666666666666666\n",
            "0.21052631578947367\n",
            "0.23529411764705882\n",
            "0.0625\n",
            "0.25\n",
            "2.142857142857143\n",
            "0.5\n",
            "0.05555555555555555\n",
            "0.0\n",
            "0.5454545454545454\n",
            "1.3333333333333333\n",
            "1.1\n",
            "0.3125\n",
            "0.05\n",
            "0.2777777777777778\n",
            "0.21428571428571427\n",
            "0.3333333333333333\n",
            "0.0\n",
            "1.1666666666666667\n",
            "0.07692307692307693\n",
            "0.5833333333333334\n",
            "0.11764705882352941\n",
            "0.11764705882352941\n",
            "0.5714285714285714\n",
            "1.75\n",
            "3.0\n",
            "2.6666666666666665\n",
            "1.2\n",
            "0.17647058823529413\n",
            "0.05555555555555555\n",
            "0.9\n",
            "1.0\n",
            "4.0\n",
            "1.2\n",
            "0.25\n",
            "1.125\n",
            "0.5454545454545454\n",
            "0.6190476190476191\n",
            "0.25\n",
            "0.2\n",
            "0.7\n",
            "0.1111111111111111\n",
            "0.42857142857142855\n",
            "0.3333333333333333\n",
            "0.5\n",
            "0.5\n",
            "2.0\n",
            "0.7142857142857143\n",
            "0.1\n",
            "0.42857142857142855\n",
            "1.5\n",
            "0.2727272727272727\n",
            "0.25\n",
            "0.3333333333333333\n",
            "0.6\n",
            "1.125\n",
            "0.125\n",
            "1.1666666666666667\n",
            "0.4\n",
            "0.5\n",
            "0.625\n",
            "1.0\n",
            "0.14285714285714285\n",
            "0.14285714285714285\n",
            "0.125\n",
            "0.4444444444444444\n",
            "0.2857142857142857\n",
            "0.0\n",
            "0.4\n",
            "0.75\n",
            "0.4\n",
            "0.625\n",
            "0.25\n",
            "0.2\n",
            "1.0\n",
            "0.6666666666666666\n",
            "0.25\n",
            "0.16666666666666666\n",
            "0.3333333333333333\n",
            "0.25\n",
            "0.125\n",
            "0.0\n",
            "1.0\n",
            "1.5\n",
            "0.3333333333333333\n",
            "0.7142857142857143\n",
            "1.0\n",
            "2.5\n",
            "1.0\n",
            "0.6666666666666666\n",
            "0.75\n",
            "1.3333333333333333\n"
          ],
          "name": "stdout"
        }
      ]
    },
    {
      "cell_type": "code",
      "metadata": {
        "id": "H69uYAWI3oN8",
        "colab_type": "code",
        "outputId": "76587b2d-4c84-4f35-8f9e-82c2ccd9e4ee",
        "colab": {
          "base_uri": "https://localhost:8080/",
          "height": 34
        }
      },
      "source": [
        "print(abs(a.mean()))"
      ],
      "execution_count": 0,
      "outputs": [
        {
          "output_type": "stream",
          "text": [
            "1.3333333333333333\n"
          ],
          "name": "stdout"
        }
      ]
    },
    {
      "cell_type": "code",
      "metadata": {
        "id": "QlNV2M6Os3_Q",
        "colab_type": "code",
        "outputId": "5775a2fc-fceb-46da-cebd-735d483430a3",
        "colab": {
          "base_uri": "https://localhost:8080/",
          "height": 52
        }
      },
      "source": [
        "first_r2_score = r2_score(y_true, y_predicted) # Best possible score is 1.0 \n",
        "first_mae = mean_absolute_error(y_true, y_predicted)\n",
        "print('r2_score %.4f' % first_r2_score)\n",
        "print('mae %.2f' % first_mae)"
      ],
      "execution_count": 0,
      "outputs": [
        {
          "output_type": "stream",
          "text": [
            "r2_score 0.3908\n",
            "mae 4.73\n"
          ],
          "name": "stdout"
        }
      ]
    },
    {
      "cell_type": "code",
      "metadata": {
        "id": "CjnGb1BL6p2D",
        "colab_type": "code",
        "outputId": "929b133a-4501-4ff1-9aca-668ba9ba809f",
        "colab": {
          "base_uri": "https://localhost:8080/",
          "height": 34
        }
      },
      "source": [
        "import math\n",
        "rootmse = np.sqrt(mean_squared_error(y_true, pred_int))\n",
        "print(rootmse)"
      ],
      "execution_count": 0,
      "outputs": [
        {
          "output_type": "stream",
          "text": [
            "6.559318374209822\n"
          ],
          "name": "stdout"
        }
      ]
    },
    {
      "cell_type": "code",
      "metadata": {
        "id": "GolW52sA7H3z",
        "colab_type": "code",
        "colab": {}
      },
      "source": [
        "df_proj = pd.DataFrame({'TRUE': y_true, 'PREDICTED': y_predicted})\n",
        "df_proj = df_proj.to_csv(r'/content/drive\\pred.csv')"
      ],
      "execution_count": 0,
      "outputs": []
    },
    {
      "cell_type": "code",
      "metadata": {
        "id": "xpyvsZ3ltfx9",
        "colab_type": "code",
        "colab": {}
      },
      "source": [
        "#Cululative power tells us the expected solar power of the year\n",
        "def cumulate(series, start=0):\n",
        "    '''\n",
        "    start is the starting cumulative power, the series is the daily solar power\n",
        "    a list with daily cumulative power is the result\n",
        "    '''\n",
        "    cum = [start]\n",
        "    for i in range(len(series)):\n",
        "        sum_plus = cum[i] + series[i]\n",
        "        cum.append(sum_plus)\n",
        "    return cum"
      ],
      "execution_count": 0,
      "outputs": []
    },
    {
      "cell_type": "code",
      "metadata": {
        "id": "zzCPB7XvBDgo",
        "colab_type": "code",
        "outputId": "7c785907-be53-4c95-836f-9d64b9515900",
        "colab": {
          "base_uri": "https://localhost:8080/",
          "height": 265
        }
      },
      "source": [
        "y_true_cumulative = cumulate(y_true)\n",
        "y_predicted_cumulative = cumulate(y_predicted)\n",
        "\n",
        "plt.plot(y_predicted_cumulative, label='predicted_power')\n",
        "plt.plot(y_true_cumulative, label='true_power')\n",
        "plt.legend()\n",
        "plt.show()\n",
        "\n"
      ],
      "execution_count": 0,
      "outputs": [
        {
          "output_type": "display_data",
          "data": {
            "image/png": "[encoded data removed]",
            "text/plain": [
              "<Figure size 432x288 with 1 Axes>"
            ]
          },
          "metadata": {
            "tags": []
          }
        }
      ]
    },
    {
      "cell_type": "markdown",
      "metadata": {
        "colab_type": "text",
        "id": "NVvZOpMvDGK-"
      },
      "source": [
        "* The error increases after 4 months"
      ]
    },
    {
      "cell_type": "code",
      "metadata": {
        "id": "fF5_q8bvBLiw",
        "colab_type": "code",
        "outputId": "ef7fbfc3-1817-4732-9c09-147379f345d1",
        "colab": {
          "base_uri": "https://localhost:8080/",
          "height": 139
        }
      },
      "source": [
        "import math\n",
        "true_cumulative_power_after_one_year = int(y_true_cumulative[-1])\n",
        "predicted_cumulative_power_after_one_year = int(y_predicted_cumulative[-1])\n",
        "print('true cumulative power after one year:', true_cumulative_power_after_one_year)\n",
        "print('predicted cumulative power after one year:', predicted_cumulative_power_after_one_year)\n",
        "\n",
        "acc_one_year = 1- (true_cumulative_power_after_one_year - predicted_cumulative_power_after_one_year)/true_cumulative_power_after_one_year\n",
        "acc_one_year = acc_one_year * 100\n",
        "\n",
        "print('accuracy after one year: %.2f' %  acc_one_year,'%')\n",
        "print('r2 score %.2f ' % r2_score(y_true_cumulative, y_predicted_cumulative))\n",
        "print('mae  %.2f' % mean_absolute_error(y_true_cumulative, y_predicted_cumulative))\n",
        "print('rmse  %.2f' % mean_squared_error(y_true_cumulative, y_predicted_cumulative, squared=False))\n",
        "print('mape  %.2f' % mean_absolute_percentage_error(y_true_cumulative, y_predicted_cumulative))\n",
        "\n",
        "\n",
        "\n"
      ],
      "execution_count": 0,
      "outputs": [
        {
          "output_type": "stream",
          "text": [
            "true cumulative power after one year: 4015\n",
            "predicted cumulative power after one year: 3238\n",
            "accuracy after one year: 80.65 %\n",
            "r2 score 0.91 \n",
            "mae  291.17\n",
            "rmse  414.19\n",
            "mape  nan\n"
          ],
          "name": "stdout"
        }
      ]
    },
    {
      "cell_type": "code",
      "metadata": {
        "colab_type": "code",
        "id": "K4TqbL6hDHXm",
        "outputId": "fd43dc44-39ce-4b72-f315-2ec10ad7080a",
        "colab": {
          "base_uri": "https://localhost:8080/",
          "height": 191
        }
      },
      "source": [
        "#using y_hat to train the model again for every day\n",
        "# predicting next year\n",
        "x_input = np.array(X_train.day_power[-365:]) #  next value based on data of last year\n",
        "x_input = x_input.reshape((1, window, n_features))\n",
        "y_hat = model.predict(x_input, verbose=0)\n",
        "for i in range(365):\n",
        "    new_x = y_hat.reshape((1,))\n",
        "    train_power_series = np.concatenate((train_power_series, new_x), axis=0)\n",
        "    X, y = my_split_window(train_power_series, window)\n",
        "    X = X.reshape((X.shape[0], X.shape[1], n_features))\n",
        "    history = model.fit(X, y, epochs=3, verbose=0)\n",
        "    x_input = train_power_series[-365:]\n",
        "    x_input = x_input.reshape((1, window, n_features))\n",
        "    y_hat = model.predict(x_input, verbose=0)\n",
        "    if i % 40 ==0:\n",
        "        print('at i=', i, 'y_hat',y_hat)"
      ],
      "execution_count": 0,
      "outputs": [
        {
          "output_type": "stream",
          "text": [
            "at i= 0 y_hat [[9.000828]]\n",
            "at i= 40 y_hat [[-0.85707974]]\n",
            "at i= 80 y_hat [[2.3944407]]\n",
            "at i= 120 y_hat [[10.058862]]\n",
            "at i= 160 y_hat [[7.875971]]\n",
            "at i= 200 y_hat [[15.919323]]\n",
            "at i= 240 y_hat [[10.838979]]\n",
            "at i= 280 y_hat [[17.829464]]\n",
            "at i= 320 y_hat [[11.158907]]\n",
            "at i= 360 y_hat [[4.7885137]]\n"
          ],
          "name": "stdout"
        }
      ]
    },
    {
      "cell_type": "code",
      "metadata": {
        "id": "oUiaqbgTKjZx",
        "colab_type": "code",
        "outputId": "061b975c-c962-4ee7-f2e4-dfd974bf42a3",
        "colab": {
          "base_uri": "https://localhost:8080/",
          "height": 265
        }
      },
      "source": [
        "y_predicted = x_input.reshape((x_input.shape[1]))\n",
        "plt.plot(y_predicted, label='predicted_power')\n",
        "\n",
        "y_true = X_valid.day_power.values\n",
        "plt.plot(y_true, label='true_power')\n",
        "plt.legend()\n",
        "plt.show()\n"
      ],
      "execution_count": 0,
      "outputs": [
        {
          "output_type": "display_data",
          "data": {
            "image/png": "[encoded data removed]",
            "text/plain": [
              "<Figure size 432x288 with 1 Axes>"
            ]
          },
          "metadata": {
            "tags": []
          }
        }
      ]
    },
    {
      "cell_type": "code",
      "metadata": {
        "id": "bDVQPoLvLrru",
        "colab_type": "code",
        "outputId": "db61e27e-c317-4983-c3ab-23218f466f7e",
        "colab": {
          "base_uri": "https://localhost:8080/",
          "height": 34
        }
      },
      "source": [
        "r2_score(y_true, y_predicted) # Best possible score is 1.0 "
      ],
      "execution_count": 0,
      "outputs": [
        {
          "output_type": "execute_result",
          "data": {
            "text/plain": [
              "0.4012068710438651"
            ]
          },
          "metadata": {
            "tags": []
          },
          "execution_count": 119
        }
      ]
    },
    {
      "cell_type": "code",
      "metadata": {
        "id": "AGpuYfD7L68r",
        "colab_type": "code",
        "outputId": "d2dcf546-3423-43f7-8147-b7625be99889",
        "colab": {
          "base_uri": "https://localhost:8080/",
          "height": 34
        }
      },
      "source": [
        "mae = mean_absolute_error(y_true, y_predicted)\n",
        "print('mae %.2f' % mae)"
      ],
      "execution_count": 0,
      "outputs": [
        {
          "output_type": "stream",
          "text": [
            "mae 4.69\n"
          ],
          "name": "stdout"
        }
      ]
    },
    {
      "cell_type": "code",
      "metadata": {
        "id": "ZnIeZqUDL9AX",
        "colab_type": "code",
        "outputId": "11f405c6-09d1-4a3f-e763-26724eecafdf",
        "colab": {
          "base_uri": "https://localhost:8080/",
          "height": 34
        }
      },
      "source": [
        "rmse = mean_squared_error(y_true, y_predicted, squared=False)\n",
        "rmse"
      ],
      "execution_count": 0,
      "outputs": [
        {
          "output_type": "execute_result",
          "data": {
            "text/plain": [
              "6.329173726688596"
            ]
          },
          "metadata": {
            "tags": []
          },
          "execution_count": 121
        }
      ]
    },
    {
      "cell_type": "code",
      "metadata": {
        "id": "nlBgUH2bMJs6",
        "colab_type": "code",
        "outputId": "0adb0422-f1a0-4516-a870-abf47848d711",
        "colab": {
          "base_uri": "https://localhost:8080/",
          "height": 265
        }
      },
      "source": [
        "y_true_cumulative = cumulate(y_true)\n",
        "y_predicted_cumulative = cumulate(y_predicted)\n",
        "\n",
        "plt.plot(y_predicted_cumulative, label='predicted_power')\n",
        "plt.plot(y_true_cumulative, label='true_power')\n",
        "plt.legend()\n",
        "plt.show()"
      ],
      "execution_count": 0,
      "outputs": [
        {
          "output_type": "display_data",
          "data": {
            "image/png": "[encoded data removed]",
            "text/plain": [
              "<Figure size 432x288 with 1 Axes>"
            ]
          },
          "metadata": {
            "tags": []
          }
        }
      ]
    },
    {
      "cell_type": "code",
      "metadata": {
        "id": "SjQ-jjn3MThK",
        "colab_type": "code",
        "outputId": "ac00fcdc-a2ce-4b72-b1a5-61a2097cce62",
        "colab": {
          "base_uri": "https://localhost:8080/",
          "height": 139
        }
      },
      "source": [
        "true_cumulative_power_after_one_year = int(y_true_cumulative[-1])\n",
        "predicted_cumulative_power_after_one_year = int(y_predicted_cumulative[-1])\n",
        "print('true cumulative power after one year:', true_cumulative_power_after_one_year)\n",
        "print('predicted cumulative power after one year:', predicted_cumulative_power_after_one_year)\n",
        "\n",
        "acc_one_year = 1- (true_cumulative_power_after_one_year - predicted_cumulative_power_after_one_year)/true_cumulative_power_after_one_year\n",
        "acc_one_year = acc_one_year * 100\n",
        "\n",
        "print('accuracy after one year: %.2f' %  acc_one_year,'%')\n",
        "print('r2 score %.2f ' % r2_score(y_true_cumulative, y_predicted_cumulative))\n",
        "print('mae  %.2f' % mean_absolute_error(y_true_cumulative, y_predicted_cumulative))\n",
        "print('rmse  %.2f' % mean_squared_error(y_true_cumulative, y_predicted_cumulative, squared=False))\n",
        "print('mape  %.2f' % mean_absolute_percentage_error(y_true_cumulative, y_predicted_cumulative))\n",
        "\n"
      ],
      "execution_count": 0,
      "outputs": [
        {
          "output_type": "stream",
          "text": [
            "true cumulative power after one year: 4015\n",
            "predicted cumulative power after one year: 3318\n",
            "accuracy after one year: 82.64 %\n",
            "r2 score 0.92 \n",
            "mae  272.14\n",
            "rmse  390.83\n",
            "mape  nan\n"
          ],
          "name": "stdout"
        }
      ]
    },
    {
      "cell_type": "code",
      "metadata": {
        "id": "DloK2QbHs_5n",
        "colab_type": "code",
        "outputId": "a3b7c237-cdf5-42b0-eaea-66eebfbc5f33",
        "colab": {
          "base_uri": "https://localhost:8080/",
          "height": 34
        }
      },
      "source": [
        "%pylab inline\n",
        "\n",
        "import os\n",
        "import numpy as np\n",
        "import pandas as pd\n",
        "#from scipy.misc import imread\n",
        "#from scipy.ndimage import imread\n",
        "#from scipy.misc.pilutil import imread\n",
        "from matplotlib.pyplot import imread\n",
        "'''To read jpg images without PIL use:\n",
        "import cv2 as cv\n",
        "im = cv.imread(image.jpg)'''\n",
        "from sklearn.metrics import accuracy_score\n",
        "import tensorflow as tf\n",
        "import keras\n",
        "\n",
        "from keras.models import Sequential\n",
        "from keras.layers import Dense, Activation, Dropout, Convolution2D, Flatten, MaxPooling2D, Reshape, InputLayer"
      ],
      "execution_count": 0,
      "outputs": [
        {
          "output_type": "stream",
          "text": [
            "Populating the interactive namespace from numpy and matplotlib\n"
          ],
          "name": "stdout"
        }
      ]
    },
    {
      "cell_type": "code",
      "metadata": {
        "id": "1Cr331eF2gcM",
        "colab_type": "code",
        "colab": {}
      },
      "source": [
        "#set seed value\n",
        "# To stop potential randomness\n",
        "seed = 128\n",
        "rng = np.random.RandomState(seed)"
      ],
      "execution_count": 0,
      "outputs": []
    },
    {
      "cell_type": "code",
      "metadata": {
        "id": "Eh5PCx2O9qb9",
        "colab_type": "code",
        "outputId": "8f7d53fb-dcd0-4bf2-b0c2-176cf48b8340",
        "colab": {
          "base_uri": "https://localhost:8080/",
          "height": 295
        }
      },
      "source": [
        "#change our model to be “wide”, i.e. increase the number of neurons in our hidden layer\n",
        "\n",
        "# define vars\n",
        "input_num_units = 784\n",
        "hidden_num_units = 500\n",
        "output_num_units = 10\n",
        "epochs = 5\n",
        "batch_size = 128\n",
        "\n",
        "'''model = Sequential([\n",
        " Dense(output_dim=hidden_num_units, input_dim=input_num_units, activation='relu'),\n",
        "\n",
        " Dense(output_dim=output_num_units, input_dim=hidden_num_units, activation='softmax'),\n",
        "])'''\n",
        "\n",
        "import warnings\n",
        "warnings.filterwarnings(\"ignore\")\n",
        "\n",
        "n_features = 1\n",
        "X = X.reshape((X.shape[0], X.shape[1], n_features))\n",
        "# define model\n",
        "model = tf.keras.Sequential()\n",
        "model.add(tf.keras.layers.Conv1D(filters=32, kernel_size=4, activation='relu', \n",
        "                                 input_shape=(window, n_features, )))\n",
        "model.add(tf.keras.layers.MaxPooling1D(pool_size=2))\n",
        "model.add(tf.keras.layers.Flatten())\n",
        "Dense(output_dim=hidden_num_units, input_dim=input_num_units, activation='relu'),\n",
        "Dense(output_dim=output_num_units, input_dim=hidden_num_units, activation='softmax')\n",
        "model.add(tf.keras.layers.Dense(1))\n",
        "model.compile(optimizer='adam', loss='mae', metrics=['accuracy'])  # metrics=['mae'])\n",
        "# fit model\n",
        "keras_model_path = \"/tmp/keras_save\"\n",
        "model.save(keras_model_path)  # save() should be called out of strategy scope\n",
        "\n",
        "history = tf.keras.models.load_model(keras_model_path)\n",
        "history = model.fit(X, y, epochs=epochs, verbose=0)\n",
        "#history = model.fit(X, y, epochs=600, verbose=0) \n",
        "\n",
        "# graph of the loss shows convergence\n",
        "import matplotlib.pyplot as plt\n",
        "plt.plot(history.history['loss'])\n",
        "plt.title('loss')\n",
        "plt.xlabel('epochs')\n",
        "plt.show()"
      ],
      "execution_count": 0,
      "outputs": [
        {
          "output_type": "display_data",
          "data": {
            "image/png": "[encoded data removed]",
            "text/plain": [
              "<Figure size 432x288 with 1 Axes>"
            ]
          },
          "metadata": {
            "tags": []
          }
        }
      ]
    }
  ]
}